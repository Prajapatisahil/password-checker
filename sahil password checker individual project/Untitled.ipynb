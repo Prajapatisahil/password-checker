{
 "cells": [
  {
   "cell_type": "code",
   "execution_count": 2,
   "metadata": {},
   "outputs": [
    {
     "name": "stdout",
     "output_type": "stream",
     "text": [
      "Not a valid Password\n"
     ]
    }
   ],
   "source": [
    "#Python program to check validation of password\n",
    "\n",
    "import re\n",
    "password=\"s@h@i_l1pr2a$\"\n",
    "flag=0\n",
    "while True:\n",
    "    if(len(password)<=8):\n",
    "        flag=-1\n",
    "        break\n",
    "    elif not re.search(\"[a-z]\",password):\n",
    "        flag=-1\n",
    "        break\n",
    "    elif not re.search(\"[A-Z]\",password):\n",
    "        flag=-1\n",
    "        break\n",
    "    elif not re.search(\"[0-9]\",password):\n",
    "        flag=-1\n",
    "        break\n",
    "    elif not re.search(\"[_@$]\",password):\n",
    "        flag=-1\n",
    "        break\n",
    "    elif re.search(\"\\s\",password):\n",
    "        flag=-1\n",
    "        break\n",
    "    else:\n",
    "        flag=0\n",
    "        print(\"valid Password\")\n",
    "        break\n",
    "        \n",
    "if flag==-1:\n",
    "    print(\"Not a valid Password\")\n",
    "        "
   ]
  },
  {
   "cell_type": "code",
   "execution_count": 1,
   "metadata": {},
   "outputs": [
    {
     "name": "stdout",
     "output_type": "stream",
     "text": [
      "Invalid Password\n"
     ]
    }
   ],
   "source": [
    "l, u, p, d = 0, 0, 0, 0\n",
    "s = \"s@h@i_l1pr2a$\"\n",
    "capitalalphabets=\"ABCDEFGHIJKLMNOPQRSTUVWXYZ\"\n",
    "smallalphabets=\"abcdefghijklmnopqrstuvwxyz\"\n",
    "specialchar=\"$@_\"\n",
    "digits=\"0123456789\"\n",
    "if (len(s) >= 8):\n",
    "    for i in s:\n",
    " \n",
    "        # counting lowercase alphabets\n",
    "        if (i in smallalphabets):\n",
    "            l+=1           \n",
    " \n",
    "        # counting uppercase alphabets\n",
    "        if (i in capitalalphabets):\n",
    "            u+=1           \n",
    " \n",
    "        # counting digits\n",
    "        if (i in digits):\n",
    "            d+=1           \n",
    " \n",
    "        # counting the mentioned special characters\n",
    "        if(i in specialchar):\n",
    "            p+=1       \n",
    "if (l>=1 and u>=1 and p>=1 and d>=1 and l+p+u+d==len(s)):\n",
    "    print(\"Valid Password\")\n",
    "else:\n",
    "    print(\"Invalid Password\")"
   ]
  },
  {
   "cell_type": "code",
   "execution_count": 6,
   "metadata": {},
   "outputs": [
    {
     "name": "stdout",
     "output_type": "stream",
     "text": [
      "enter passwordSahil@1408\n",
      "Valid Password\n"
     ]
    }
   ],
   "source": [
    "\n",
    "l, u, p, d = 0, 0, 0, 0\n",
    "s =input('enter password')\n",
    "capitalalphabets=\"ABCDEFGHIJKLMNOPQRSTUVWXYZ\"\n",
    "smallalphabets=\"abcdefghijklmnopqrstuvwxyz\"\n",
    "specialchar=\"$@_\"\n",
    "digits=\"0123456789\"\n",
    "if (len(s) >= 8):\n",
    "    for i in s:\n",
    " \n",
    "        # counting lowercase alphabets\n",
    "        if (i in smallalphabets):\n",
    "            l+=1           \n",
    " \n",
    "        # counting uppercase alphabets\n",
    "        if (i in capitalalphabets):\n",
    "            u+=1           \n",
    " \n",
    "        # counting digits\n",
    "        if (i in digits):\n",
    "            d+=1           \n",
    " \n",
    "        # counting the mentioned special characters\n",
    "        if(i in specialchar):\n",
    "            p+=1       \n",
    "if (l>=1 and u>=1 and p>=1 and d>=1 and l+p+u+d==len(s)):\n",
    "    print(\"Valid Password\")\n",
    "else:\n",
    "    print(\"Invalid Password\")"
   ]
  },
  {
   "cell_type": "code",
   "execution_count": null,
   "metadata": {},
   "outputs": [],
   "source": []
  },
  {
   "cell_type": "code",
   "execution_count": null,
   "metadata": {},
   "outputs": [],
   "source": []
  }
 ],
 "metadata": {
  "kernelspec": {
   "display_name": "Python 3",
   "language": "python",
   "name": "python3"
  },
  "language_info": {
   "codemirror_mode": {
    "name": "ipython",
    "version": 3
   },
   "file_extension": ".py",
   "mimetype": "text/x-python",
   "name": "python",
   "nbconvert_exporter": "python",
   "pygments_lexer": "ipython3",
   "version": "3.8.5"
  }
 },
 "nbformat": 4,
 "nbformat_minor": 4
}
